{
 "cells": [
  {
   "cell_type": "code",
   "execution_count": 1,
   "metadata": {},
   "outputs": [],
   "source": [
    "import numpy as np\n",
    "import pandas as pd\n",
    "import datetime\n",
    "import matplotlib.pyplot as plt\n",
    "import streamlit as st\n",
    "import plotly.express as px\n",
    "import plotly\n",
    "import altair as alt\n",
    "import requests\n",
    "import json"
   ]
  },
  {
   "cell_type": "code",
   "execution_count": 2,
   "metadata": {},
   "outputs": [],
   "source": [
    "df=pd.read_csv('COVID-19_Reported_Patient_Impact_and_Hospital_Capacity_by_State_Timeseries.csv')\n",
    "#df=pd.read_csv('https://raw.githubusercontent.com/soyHenry/DS-PI-ProyectoIndividual/main/COVID-19_Reported_Patient_Impact_and_Hospital_Capacity_by_State_Timeseries.csv')"
   ]
  },
  {
   "cell_type": "code",
   "execution_count": 3,
   "metadata": {},
   "outputs": [],
   "source": [
    "df.date=pd.to_datetime(df.date, format='%Y/%m/%d')"
   ]
  },
  {
   "cell_type": "markdown",
   "metadata": {},
   "source": [
    "1 - ¿Cuáles fueron los 5 Estados con mayor ocupación hospitalaria por COVID? Criterio de ocupación por cama común. Considere la cantidad de camas ocupadas con pacientes confirmados y tome como referencia los 6 primeros meses del 2020 - recuerde incluir la cifra de infectados en esos meses (acumulativo). ¿Influye el rango etario en este comportamiento?"
   ]
  },
  {
   "cell_type": "markdown",
   "metadata": {},
   "source": [
    "Creando dataframe con filtro de fechas"
   ]
  },
  {
   "cell_type": "code",
   "execution_count": 4,
   "metadata": {},
   "outputs": [],
   "source": [
    "mask = (df['date'] > '2020/1/1') & (df['date'] <= '2020/6/30')\n",
    "df1=df.loc[mask]"
   ]
  },
  {
   "cell_type": "markdown",
   "metadata": {},
   "source": [
    "Utilizaremos la columna  total_adult_patients_hospitalized_confirmed_covid debido a que reporta pacientes hospitalizados que ocupan una cama y son confirmados por laboraotrio que tienen COVID-19 "
   ]
  },
  {
   "cell_type": "code",
   "execution_count": 5,
   "metadata": {},
   "outputs": [
    {
     "name": "stderr",
     "output_type": "stream",
     "text": [
      "/var/folders/qr/4qhf7vjs1mq388jh6rxzt06c0000gn/T/ipykernel_723/1443215449.py:6: FutureWarning: Dropping invalid columns in DataFrameGroupBy.add is deprecated. In a future version, a TypeError will be raised. Before calling .add, select only columns which should be valid for the function.\n",
      "  top5_3 = df3_6meses.groupby('state').sum()\n"
     ]
    },
    {
     "data": {
      "text/html": [
       "<div>\n",
       "<style scoped>\n",
       "    .dataframe tbody tr th:only-of-type {\n",
       "        vertical-align: middle;\n",
       "    }\n",
       "\n",
       "    .dataframe tbody tr th {\n",
       "        vertical-align: top;\n",
       "    }\n",
       "\n",
       "    .dataframe thead th {\n",
       "        text-align: right;\n",
       "    }\n",
       "</style>\n",
       "<table border=\"1\" class=\"dataframe\">\n",
       "  <thead>\n",
       "    <tr style=\"text-align: right;\">\n",
       "      <th></th>\n",
       "      <th>total_adult</th>\n",
       "      <th>total_pediatric</th>\n",
       "      <th>total</th>\n",
       "    </tr>\n",
       "    <tr>\n",
       "      <th>state</th>\n",
       "      <th></th>\n",
       "      <th></th>\n",
       "      <th></th>\n",
       "    </tr>\n",
       "  </thead>\n",
       "  <tbody>\n",
       "    <tr>\n",
       "      <th>LA</th>\n",
       "      <td>40452.0</td>\n",
       "      <td>0.0</td>\n",
       "      <td>40452.0</td>\n",
       "    </tr>\n",
       "    <tr>\n",
       "      <th>CA</th>\n",
       "      <td>36134.0</td>\n",
       "      <td>0.0</td>\n",
       "      <td>36134.0</td>\n",
       "    </tr>\n",
       "    <tr>\n",
       "      <th>NV</th>\n",
       "      <td>20089.0</td>\n",
       "      <td>45.0</td>\n",
       "      <td>20134.0</td>\n",
       "    </tr>\n",
       "    <tr>\n",
       "      <th>AZ</th>\n",
       "      <td>5177.0</td>\n",
       "      <td>0.0</td>\n",
       "      <td>5177.0</td>\n",
       "    </tr>\n",
       "    <tr>\n",
       "      <th>IA</th>\n",
       "      <td>3174.0</td>\n",
       "      <td>0.0</td>\n",
       "      <td>3174.0</td>\n",
       "    </tr>\n",
       "  </tbody>\n",
       "</table>\n",
       "</div>"
      ],
      "text/plain": [
       "       total_adult  total_pediatric    total\n",
       "state                                       \n",
       "LA         40452.0              0.0  40452.0\n",
       "CA         36134.0              0.0  36134.0\n",
       "NV         20089.0             45.0  20134.0\n",
       "AZ          5177.0              0.0   5177.0\n",
       "IA          3174.0              0.0   3174.0"
      ]
     },
     "execution_count": 5,
     "metadata": {},
     "output_type": "execute_result"
    }
   ],
   "source": [
    "df3_6meses=df1[['date','state','total_adult_patients_hospitalized_confirmed_covid','total_pediatric_patients_hospitalized_confirmed_covid']].copy()\n",
    "df3_6meses.reset_index(inplace=True, drop=True)\n",
    "df3_6meses.rename(columns={'total_adult_patients_hospitalized_confirmed_covid':'total_adult','total_pediatric_patients_hospitalized_confirmed_covid':'total_pediatric'}, inplace=True)\n",
    "df3_6meses= df3_6meses.fillna(0, axis=1)\n",
    "df3_6meses['total']=df3_6meses.total_adult+df3_6meses.total_pediatric\n",
    "top5_3 = df3_6meses.groupby('state').sum()\n",
    "top5_3 = top5_3.sort_values(by=['total'],inplace=False, ascending=False)\n",
    "top5_3.head(5)"
   ]
  },
  {
   "cell_type": "code",
   "execution_count": 6,
   "metadata": {},
   "outputs": [
    {
     "name": "stderr",
     "output_type": "stream",
     "text": [
      "/var/folders/qr/4qhf7vjs1mq388jh6rxzt06c0000gn/T/ipykernel_723/2413081021.py:2: FutureWarning: Dropping invalid columns in DataFrameGroupBy.add is deprecated. In a future version, a TypeError will be raised. Before calling .add, select only columns which should be valid for the function.\n",
      "  df3_6meses_pormes=df3_6meses_pormes.groupby(pd.PeriodIndex(df3_6meses_pormes.date, freq='M')).sum()\n"
     ]
    },
    {
     "data": {
      "text/html": [
       "<div>\n",
       "<style scoped>\n",
       "    .dataframe tbody tr th:only-of-type {\n",
       "        vertical-align: middle;\n",
       "    }\n",
       "\n",
       "    .dataframe tbody tr th {\n",
       "        vertical-align: top;\n",
       "    }\n",
       "\n",
       "    .dataframe thead th {\n",
       "        text-align: right;\n",
       "    }\n",
       "</style>\n",
       "<table border=\"1\" class=\"dataframe\">\n",
       "  <thead>\n",
       "    <tr style=\"text-align: right;\">\n",
       "      <th></th>\n",
       "      <th>total</th>\n",
       "    </tr>\n",
       "    <tr>\n",
       "      <th>date</th>\n",
       "      <th></th>\n",
       "    </tr>\n",
       "  </thead>\n",
       "  <tbody>\n",
       "    <tr>\n",
       "      <th>2020-01</th>\n",
       "      <td>9005.0</td>\n",
       "    </tr>\n",
       "    <tr>\n",
       "      <th>2020-02</th>\n",
       "      <td>0.0</td>\n",
       "    </tr>\n",
       "    <tr>\n",
       "      <th>2020-03</th>\n",
       "      <td>806.0</td>\n",
       "    </tr>\n",
       "    <tr>\n",
       "      <th>2020-04</th>\n",
       "      <td>56216.0</td>\n",
       "    </tr>\n",
       "    <tr>\n",
       "      <th>2020-05</th>\n",
       "      <td>24939.0</td>\n",
       "    </tr>\n",
       "    <tr>\n",
       "      <th>2020-06</th>\n",
       "      <td>18123.0</td>\n",
       "    </tr>\n",
       "  </tbody>\n",
       "</table>\n",
       "</div>"
      ],
      "text/plain": [
       "           total\n",
       "date            \n",
       "2020-01   9005.0\n",
       "2020-02      0.0\n",
       "2020-03    806.0\n",
       "2020-04  56216.0\n",
       "2020-05  24939.0\n",
       "2020-06  18123.0"
      ]
     },
     "execution_count": 6,
     "metadata": {},
     "output_type": "execute_result"
    }
   ],
   "source": [
    "df3_6meses_pormes=df3_6meses.drop(['state','total_adult','total_pediatric'], axis=1)\n",
    "df3_6meses_pormes=df3_6meses_pormes.groupby(pd.PeriodIndex(df3_6meses_pormes.date, freq='M')).sum()\n",
    "df3_6meses_pormes"
   ]
  },
  {
   "cell_type": "markdown",
   "metadata": {},
   "source": [
    "PUNTO 2"
   ]
  },
  {
   "cell_type": "markdown",
   "metadata": {},
   "source": [
    "Se utiliza la columna total_adult_patients_hospitalized_confirmed_covid debido a que son los datos confirmados de COVID-19 "
   ]
  },
  {
   "cell_type": "markdown",
   "metadata": {},
   "source": [
    "De acuerdo con las siguentes referencias compartidas por mi compañera Alicia en Slack se tiene que el periodo de cuarentena de New York es del 2020/03/01 al 2020/06/13 "
   ]
  },
  {
   "cell_type": "markdown",
   "metadata": {},
   "source": [
    "<p>https://www.perfil.com/noticias/internacional/nueva-york-y-california-en-cuarentena-total-por-covid-19.phtml</p>\n",
    "<p>https://elpais.com/sociedad/2021-06-15/nueva-york-celebra-el-fin-de-la-pandemia-al-levantar-las-ultimas-restricciones-vigentes.html</p> "
   ]
  },
  {
   "cell_type": "code",
   "execution_count": 7,
   "metadata": {},
   "outputs": [
    {
     "data": {
      "text/html": [
       "<div>\n",
       "<style scoped>\n",
       "    .dataframe tbody tr th:only-of-type {\n",
       "        vertical-align: middle;\n",
       "    }\n",
       "\n",
       "    .dataframe tbody tr th {\n",
       "        vertical-align: top;\n",
       "    }\n",
       "\n",
       "    .dataframe thead th {\n",
       "        text-align: right;\n",
       "    }\n",
       "</style>\n",
       "<table border=\"1\" class=\"dataframe\">\n",
       "  <thead>\n",
       "    <tr style=\"text-align: right;\">\n",
       "      <th></th>\n",
       "      <th>date</th>\n",
       "      <th>state</th>\n",
       "      <th>total_adult_patients_hospitalized_confirmed_covid</th>\n",
       "    </tr>\n",
       "  </thead>\n",
       "  <tbody>\n",
       "    <tr>\n",
       "      <th>1131</th>\n",
       "      <td>2020-06-09</td>\n",
       "      <td>NY</td>\n",
       "      <td>2.0</td>\n",
       "    </tr>\n",
       "    <tr>\n",
       "      <th>1193</th>\n",
       "      <td>2020-06-07</td>\n",
       "      <td>NY</td>\n",
       "      <td>5.0</td>\n",
       "    </tr>\n",
       "    <tr>\n",
       "      <th>1442</th>\n",
       "      <td>2020-06-06</td>\n",
       "      <td>NY</td>\n",
       "      <td>5.0</td>\n",
       "    </tr>\n",
       "    <tr>\n",
       "      <th>1702</th>\n",
       "      <td>2020-06-11</td>\n",
       "      <td>NY</td>\n",
       "      <td>3.0</td>\n",
       "    </tr>\n",
       "    <tr>\n",
       "      <th>3447</th>\n",
       "      <td>2020-06-10</td>\n",
       "      <td>NY</td>\n",
       "      <td>3.0</td>\n",
       "    </tr>\n",
       "    <tr>\n",
       "      <th>...</th>\n",
       "      <td>...</td>\n",
       "      <td>...</td>\n",
       "      <td>...</td>\n",
       "    </tr>\n",
       "    <tr>\n",
       "      <th>21122</th>\n",
       "      <td>2020-06-05</td>\n",
       "      <td>NY</td>\n",
       "      <td>3.0</td>\n",
       "    </tr>\n",
       "    <tr>\n",
       "      <th>21135</th>\n",
       "      <td>2020-03-31</td>\n",
       "      <td>NY</td>\n",
       "      <td>NaN</td>\n",
       "    </tr>\n",
       "    <tr>\n",
       "      <th>21202</th>\n",
       "      <td>2020-05-01</td>\n",
       "      <td>NY</td>\n",
       "      <td>0.0</td>\n",
       "    </tr>\n",
       "    <tr>\n",
       "      <th>21286</th>\n",
       "      <td>2020-03-14</td>\n",
       "      <td>NY</td>\n",
       "      <td>NaN</td>\n",
       "    </tr>\n",
       "    <tr>\n",
       "      <th>21576</th>\n",
       "      <td>2020-06-04</td>\n",
       "      <td>NY</td>\n",
       "      <td>3.0</td>\n",
       "    </tr>\n",
       "  </tbody>\n",
       "</table>\n",
       "<p>92 rows × 3 columns</p>\n",
       "</div>"
      ],
      "text/plain": [
       "            date state  total_adult_patients_hospitalized_confirmed_covid\n",
       "1131  2020-06-09    NY                                                2.0\n",
       "1193  2020-06-07    NY                                                5.0\n",
       "1442  2020-06-06    NY                                                5.0\n",
       "1702  2020-06-11    NY                                                3.0\n",
       "3447  2020-06-10    NY                                                3.0\n",
       "...          ...   ...                                                ...\n",
       "21122 2020-06-05    NY                                                3.0\n",
       "21135 2020-03-31    NY                                                NaN\n",
       "21202 2020-05-01    NY                                                0.0\n",
       "21286 2020-03-14    NY                                                NaN\n",
       "21576 2020-06-04    NY                                                3.0\n",
       "\n",
       "[92 rows x 3 columns]"
      ]
     },
     "execution_count": 7,
     "metadata": {},
     "output_type": "execute_result"
    }
   ],
   "source": [
    "df2=df[['date','state','total_adult_patients_hospitalized_confirmed_covid']].copy()\n",
    "mask2 = (df['date'] > '2020/3/01') & (df['date'] <= '2020/6/13')\n",
    "df2=df2.loc[mask2]\n",
    "df2=df2[df2['state']=='NY']\n",
    "df2"
   ]
  },
  {
   "cell_type": "code",
   "execution_count": 8,
   "metadata": {},
   "outputs": [
    {
     "data": {
      "image/png": "[encoded data removed]",
      "text/plain": [
       "<Figure size 432x288 with 1 Axes>"
      ]
     },
     "metadata": {
      "needs_background": "light"
     },
     "output_type": "display_data"
    }
   ],
   "source": [
    "x=df2.date\n",
    "y=df2.total_adult_patients_hospitalized_confirmed_covid\n",
    "plt.figure()\n",
    "plt.scatter(x,y, color='Blue')\n",
    "plt.title('')\n",
    "plt.ylabel('')\n",
    "plt.xlabel('Fechas')\n",
    "plt.show()"
   ]
  },
  {
   "cell_type": "code",
   "execution_count": 9,
   "metadata": {},
   "outputs": [
    {
     "data": {
      "image/png": "[encoded data removed]",
      "text/plain": [
       "<Figure size 1440x720 with 1 Axes>"
      ]
     },
     "metadata": {
      "needs_background": "light"
     },
     "output_type": "display_data"
    }
   ],
   "source": [
    "df2_todas=df[['date','state','total_adult_patients_hospitalized_confirmed_covid']].copy()\n",
    "df2_todas=df2_todas[df2_todas['state']=='NY']\n",
    "x1=df2_todas.date\n",
    "y1=df2_todas.total_adult_patients_hospitalized_confirmed_covid\n",
    "plt.figure(figsize=(20,10))\n",
    "plt.scatter(x1,y1, color='Blue')\n",
    "plt.title('Total de camas en común por pacientes confirmados por Covid-19')\n",
    "plt.ylabel('Cantidad de camas')\n",
    "plt.xlabel('Fechas')\n",
    "plt.show()"
   ]
  },
  {
   "cell_type": "markdown",
   "metadata": {},
   "source": [
    "Considerando todo el intervalor de fechas del dataframe se aprecio una mejor gráfica, en donde podemos observar que hay dos máximos, uno por el mes de febreo del 2020 y otro en el mismo mes en el año 2021, así como tres mínimos julio del 2020, julio del 2021 y abril del 2022. \n",
    "Los periodos de crecimiento son:  del 2020-04 al 2021-03, 2021-07 al 2021-08, 2021-12 al 2022-02. Los intervalos de decrecimiento son: 2021-03 al 2021-07, 2021-08 al 2021-12 y del 2022-02 al 2022-04"
   ]
  },
  {
   "cell_type": "markdown",
   "metadata": {},
   "source": [
    "PUNTO 3"
   ]
  },
  {
   "cell_type": "markdown",
   "metadata": {},
   "source": [
    "¿Cuáles fueron los cinco Estados que más camas UCI -Unidades de Cuidados Intensivos- utilizaron durante el año 2020? La medición debe realizarse en términos absolutos."
   ]
  },
  {
   "cell_type": "markdown",
   "metadata": {},
   "source": [
    "Debido a que estamos analizando todos los pacientes confirmados con Covid-19 utilizo la columna  staffed_icu_adult_patients_confirmed_covid para realizar el conteo de camas por estado y así mostrar el top 5 de estos durante el 2020"
   ]
  },
  {
   "cell_type": "code",
   "execution_count": 10,
   "metadata": {},
   "outputs": [
    {
     "data": {
      "text/html": [
       "<div>\n",
       "<style scoped>\n",
       "    .dataframe tbody tr th:only-of-type {\n",
       "        vertical-align: middle;\n",
       "    }\n",
       "\n",
       "    .dataframe tbody tr th {\n",
       "        vertical-align: top;\n",
       "    }\n",
       "\n",
       "    .dataframe thead th {\n",
       "        text-align: right;\n",
       "    }\n",
       "</style>\n",
       "<table border=\"1\" class=\"dataframe\">\n",
       "  <thead>\n",
       "    <tr style=\"text-align: right;\">\n",
       "      <th></th>\n",
       "      <th>Total Camas UCI</th>\n",
       "    </tr>\n",
       "    <tr>\n",
       "      <th>state</th>\n",
       "      <th></th>\n",
       "    </tr>\n",
       "  </thead>\n",
       "  <tbody>\n",
       "    <tr>\n",
       "      <th>TX</th>\n",
       "      <td>335836.0</td>\n",
       "    </tr>\n",
       "    <tr>\n",
       "      <th>CA</th>\n",
       "      <td>260865.0</td>\n",
       "    </tr>\n",
       "    <tr>\n",
       "      <th>FL</th>\n",
       "      <td>175859.0</td>\n",
       "    </tr>\n",
       "    <tr>\n",
       "      <th>GA</th>\n",
       "      <td>95596.0</td>\n",
       "    </tr>\n",
       "    <tr>\n",
       "      <th>OH</th>\n",
       "      <td>89483.0</td>\n",
       "    </tr>\n",
       "  </tbody>\n",
       "</table>\n",
       "</div>"
      ],
      "text/plain": [
       "       Total Camas UCI\n",
       "state                 \n",
       "TX            335836.0\n",
       "CA            260865.0\n",
       "FL            175859.0\n",
       "GA             95596.0\n",
       "OH             89483.0"
      ]
     },
     "execution_count": 10,
     "metadata": {},
     "output_type": "execute_result"
    }
   ],
   "source": [
    "mask3 = (df['date'] >= '2020/1/1') & (df['date'] <= '2020/12/31')\n",
    "df3=df.loc[mask3]\n",
    "df3=df3[['date','state','staffed_icu_adult_patients_confirmed_covid']].copy()\n",
    "df3.reset_index(inplace=True, drop=True)\n",
    "#df3.rename(columns={'total_adult_patients_hospitalized_confirmed_covid':'total_adult','total_pediatric_patients_hospitalized_confirmed_covid':'total_pediatric'}, inplace=True)\n",
    "#df3= df3_6meses.fillna(0, axis=1)\n",
    "df3=df3.groupby('state').sum().sort_values(by='staffed_icu_adult_patients_confirmed_covid',ascending=False).head(5)\n",
    "df3=df3.rename(columns={'staffed_icu_adult_patients_confirmed_covid':'Total Camas UCI'}, inplace=False)\n",
    "df3"
   ]
  },
  {
   "cell_type": "markdown",
   "metadata": {},
   "source": [
    "PUNTO 4"
   ]
  },
  {
   "cell_type": "markdown",
   "metadata": {},
   "source": [
    "¿Qué cantidad de camas se utilizaron, por Estado, para pacientes pediátricos con COVID durante el 2020?"
   ]
  },
  {
   "cell_type": "markdown",
   "metadata": {},
   "source": [
    "Se utiliza la columna total_pediatric_patients_hospitalized_confirmed_covid ya que tiene a todos los pacientes pediàtricos confirmados de COVID-19"
   ]
  },
  {
   "cell_type": "code",
   "execution_count": 11,
   "metadata": {},
   "outputs": [
    {
     "data": {
      "text/html": [
       "<div>\n",
       "<style scoped>\n",
       "    .dataframe tbody tr th:only-of-type {\n",
       "        vertical-align: middle;\n",
       "    }\n",
       "\n",
       "    .dataframe tbody tr th {\n",
       "        vertical-align: top;\n",
       "    }\n",
       "\n",
       "    .dataframe thead th {\n",
       "        text-align: right;\n",
       "    }\n",
       "</style>\n",
       "<table border=\"1\" class=\"dataframe\">\n",
       "  <thead>\n",
       "    <tr style=\"text-align: right;\">\n",
       "      <th></th>\n",
       "      <th>Total Camas Pediátricas</th>\n",
       "    </tr>\n",
       "    <tr>\n",
       "      <th>state</th>\n",
       "      <th></th>\n",
       "    </tr>\n",
       "  </thead>\n",
       "  <tbody>\n",
       "    <tr>\n",
       "      <th>TX</th>\n",
       "      <td>12574.0</td>\n",
       "    </tr>\n",
       "    <tr>\n",
       "      <th>CA</th>\n",
       "      <td>9909.0</td>\n",
       "    </tr>\n",
       "    <tr>\n",
       "      <th>FL</th>\n",
       "      <td>7411.0</td>\n",
       "    </tr>\n",
       "    <tr>\n",
       "      <th>AZ</th>\n",
       "      <td>5710.0</td>\n",
       "    </tr>\n",
       "    <tr>\n",
       "      <th>PA</th>\n",
       "      <td>5682.0</td>\n",
       "    </tr>\n",
       "  </tbody>\n",
       "</table>\n",
       "</div>"
      ],
      "text/plain": [
       "       Total Camas Pediátricas\n",
       "state                         \n",
       "TX                     12574.0\n",
       "CA                      9909.0\n",
       "FL                      7411.0\n",
       "AZ                      5710.0\n",
       "PA                      5682.0"
      ]
     },
     "execution_count": 11,
     "metadata": {},
     "output_type": "execute_result"
    }
   ],
   "source": [
    "df4=df[['date','state','total_pediatric_patients_hospitalized_confirmed_covid']].copy()\n",
    "mask_2020 = (df['date'] >= '2020/1/1') & (df['date'] <= '2020/12/31')\n",
    "df4=df4.loc[mask_2020]\n",
    "df4.reset_index(inplace=True, drop=True)\n",
    "df4=df4.rename(columns={'total_pediatric_patients_hospitalized_confirmed_covid':'Total Camas Pediátricas'}, inplace=False)\n",
    "df4=df4.dropna()\n",
    "df4=df4.groupby('state').sum().sort_values(by='Total Camas Pediátricas',ascending=False).head(5)\n",
    "df4\n"
   ]
  },
  {
   "cell_type": "markdown",
   "metadata": {},
   "source": [
    "PUNTO 5"
   ]
  },
  {
   "cell_type": "markdown",
   "metadata": {},
   "source": [
    "¿Qué porcentaje de camas UCI corresponden a casos confirmados de COVID-19? Agrupe por Estado."
   ]
  },
  {
   "cell_type": "markdown",
   "metadata": {},
   "source": [
    "Para hallar este valor debemos tener el total de camas UCI y el total de de camas UCI con casos confirmados de COVID-19 para después realizar la división de las camas confirmadas entre el total y multiplicar por 100 para obtener el porcentaje"
   ]
  },
  {
   "cell_type": "markdown",
   "metadata": {},
   "source": [
    "Utiliza la columna total_staffed_adult_icu_beds ya que es el total de las camas UCI \n",
    "y la columna staffed_icu_adult_patients_confirmed_covid porque es el total de camas UCI con casos confirmados"
   ]
  },
  {
   "cell_type": "code",
   "execution_count": 12,
   "metadata": {},
   "outputs": [
    {
     "data": {
      "text/html": [
       "<div>\n",
       "<style scoped>\n",
       "    .dataframe tbody tr th:only-of-type {\n",
       "        vertical-align: middle;\n",
       "    }\n",
       "\n",
       "    .dataframe tbody tr th {\n",
       "        vertical-align: top;\n",
       "    }\n",
       "\n",
       "    .dataframe thead th {\n",
       "        text-align: right;\n",
       "    }\n",
       "</style>\n",
       "<table border=\"1\" class=\"dataframe\">\n",
       "  <thead>\n",
       "    <tr style=\"text-align: right;\">\n",
       "      <th></th>\n",
       "      <th>Total Camas ICU</th>\n",
       "      <th>Total Camas ICU Confirmada</th>\n",
       "      <th>%</th>\n",
       "    </tr>\n",
       "    <tr>\n",
       "      <th>state</th>\n",
       "      <th></th>\n",
       "      <th></th>\n",
       "      <th></th>\n",
       "    </tr>\n",
       "  </thead>\n",
       "  <tbody>\n",
       "    <tr>\n",
       "      <th>TX</th>\n",
       "      <td>2692458.0</td>\n",
       "      <td>648354.0</td>\n",
       "      <td>24.08</td>\n",
       "    </tr>\n",
       "    <tr>\n",
       "      <th>NV</th>\n",
       "      <td>343027.0</td>\n",
       "      <td>74249.0</td>\n",
       "      <td>21.65</td>\n",
       "    </tr>\n",
       "    <tr>\n",
       "      <th>AL</th>\n",
       "      <td>597171.0</td>\n",
       "      <td>125825.0</td>\n",
       "      <td>21.07</td>\n",
       "    </tr>\n",
       "    <tr>\n",
       "      <th>MS</th>\n",
       "      <td>296173.0</td>\n",
       "      <td>62158.0</td>\n",
       "      <td>20.99</td>\n",
       "    </tr>\n",
       "    <tr>\n",
       "      <th>GA</th>\n",
       "      <td>961859.0</td>\n",
       "      <td>201749.0</td>\n",
       "      <td>20.97</td>\n",
       "    </tr>\n",
       "  </tbody>\n",
       "</table>\n",
       "</div>"
      ],
      "text/plain": [
       "       Total Camas ICU  Total Camas ICU Confirmada      %\n",
       "state                                                    \n",
       "TX           2692458.0                    648354.0  24.08\n",
       "NV            343027.0                     74249.0  21.65\n",
       "AL            597171.0                    125825.0  21.07\n",
       "MS            296173.0                     62158.0  20.99\n",
       "GA            961859.0                    201749.0  20.97"
      ]
     },
     "execution_count": 12,
     "metadata": {},
     "output_type": "execute_result"
    }
   ],
   "source": [
    "df5=df[['date','state','total_staffed_adult_icu_beds','staffed_icu_adult_patients_confirmed_covid']].copy()\n",
    "mask5 = (df['date'] <= '2021/8/1')\n",
    "df5=df5.loc[mask5]\n",
    "df5.reset_index(inplace=True, drop=True)\n",
    "df5=df5.rename(columns={'total_staffed_adult_icu_beds':'Total Camas ICU','staffed_icu_adult_patients_confirmed_covid':'Total Camas ICU Confirmada'}, inplace=False)\n",
    "df5=df5.dropna()\n",
    "df5.drop(df5[(df5['Total Camas ICU']==0) & (df5['Total Camas ICU Confirmada']==0)].index, inplace=True)\n",
    "df5=df5.groupby('state').sum()\n",
    "df5['%']=round(df5['Total Camas ICU Confirmada']*100/df5['Total Camas ICU'],2)\n",
    "df5.sort_values(by='%',ascending=False).head(5)\n",
    "\n"
   ]
  },
  {
   "cell_type": "markdown",
   "metadata": {},
   "source": [
    "PUNTO 6"
   ]
  },
  {
   "cell_type": "markdown",
   "metadata": {},
   "source": [
    "¿Cuántas muertes por covid hubo, por Estado, durante el año 2021?"
   ]
  },
  {
   "cell_type": "code",
   "execution_count": 13,
   "metadata": {},
   "outputs": [
    {
     "data": {
      "text/html": [
       "<div>\n",
       "<style scoped>\n",
       "    .dataframe tbody tr th:only-of-type {\n",
       "        vertical-align: middle;\n",
       "    }\n",
       "\n",
       "    .dataframe tbody tr th {\n",
       "        vertical-align: top;\n",
       "    }\n",
       "\n",
       "    .dataframe thead th {\n",
       "        text-align: right;\n",
       "    }\n",
       "</style>\n",
       "<table border=\"1\" class=\"dataframe\">\n",
       "  <thead>\n",
       "    <tr style=\"text-align: right;\">\n",
       "      <th></th>\n",
       "      <th>Muertes Covid</th>\n",
       "    </tr>\n",
       "    <tr>\n",
       "      <th>state</th>\n",
       "      <th></th>\n",
       "    </tr>\n",
       "  </thead>\n",
       "  <tbody>\n",
       "    <tr>\n",
       "      <th>CA</th>\n",
       "      <td>35108.0</td>\n",
       "    </tr>\n",
       "    <tr>\n",
       "      <th>TX</th>\n",
       "      <td>32889.0</td>\n",
       "    </tr>\n",
       "    <tr>\n",
       "      <th>FL</th>\n",
       "      <td>26004.0</td>\n",
       "    </tr>\n",
       "    <tr>\n",
       "      <th>NY</th>\n",
       "      <td>17620.0</td>\n",
       "    </tr>\n",
       "    <tr>\n",
       "      <th>AZ</th>\n",
       "      <td>16250.0</td>\n",
       "    </tr>\n",
       "  </tbody>\n",
       "</table>\n",
       "</div>"
      ],
      "text/plain": [
       "       Muertes Covid\n",
       "state               \n",
       "CA           35108.0\n",
       "TX           32889.0\n",
       "FL           26004.0\n",
       "NY           17620.0\n",
       "AZ           16250.0"
      ]
     },
     "execution_count": 13,
     "metadata": {},
     "output_type": "execute_result"
    }
   ],
   "source": [
    "df6=df[['date','state','deaths_covid']].copy()\n",
    "mask2021=(df['date'] >= '2021/1/1') & (df['date'] <= '2021/12/31')\n",
    "df6=df6.loc[mask2021]\n",
    "df6.reset_index(inplace=True, drop=True)\n",
    "df6=df6.rename(columns={'deaths_covid':'Muertes Covid'}, inplace=False)\n",
    "df6=df6.dropna()\n",
    "df6=df6.groupby('state').sum()\n",
    "df6.sort_values(by='Muertes Covid',ascending=False).head(5)\n"
   ]
  },
  {
   "cell_type": "markdown",
   "metadata": {},
   "source": [
    "PUNTO 7"
   ]
  },
  {
   "cell_type": "markdown",
   "metadata": {},
   "source": [
    "¿Qué relación presenta la falta de personal médico, con la cantidad de muertes por covid durante el año 2021?"
   ]
  },
  {
   "cell_type": "markdown",
   "metadata": {},
   "source": [
    "Utilizaré la columna critical_staffing_shortage_today_yes y la columna deaths_covid"
   ]
  },
  {
   "cell_type": "code",
   "execution_count": 14,
   "metadata": {},
   "outputs": [
    {
     "data": {
      "image/png": "[encoded data removed]",
      "text/plain": [
       "<Figure size 432x288 with 1 Axes>"
      ]
     },
     "metadata": {
      "needs_background": "light"
     },
     "output_type": "display_data"
    }
   ],
   "source": [
    "df7=df[['date','state','deaths_covid','critical_staffing_shortage_today_yes']].copy()\n",
    "mask2021=(df['date'] >= '2021/1/1') & (df['date'] <= '2021/12/31')\n",
    "df7=df7.loc[mask2021]\n",
    "df7.reset_index(inplace=True, drop=True)\n",
    "df7=df7.rename(columns={'deaths_covid':'Muertes Covid','critical_staffing_shortage_today_yes':'Falta de Personal'}, inplace=False)\n",
    "df7=df7.dropna()\n",
    "df7=df7.groupby('state').sum()\n",
    "#Gráfica\n",
    "x7=df7['Falta de Personal']\n",
    "y7=df7['Muertes Covid']\n",
    "plt.figure()\n",
    "plt.scatter(x7,y7, color='Red')\n",
    "plt.title('Relación entre las muertes por Covid y falta de personal')\n",
    "plt.ylabel('Muertes por covid')\n",
    "plt.xlabel('Falta de Personal')\n",
    "plt.show()"
   ]
  },
  {
   "cell_type": "code",
   "execution_count": 15,
   "metadata": {},
   "outputs": [
    {
     "data": {
      "text/html": [
       "<div>\n",
       "<style scoped>\n",
       "    .dataframe tbody tr th:only-of-type {\n",
       "        vertical-align: middle;\n",
       "    }\n",
       "\n",
       "    .dataframe tbody tr th {\n",
       "        vertical-align: top;\n",
       "    }\n",
       "\n",
       "    .dataframe thead th {\n",
       "        text-align: right;\n",
       "    }\n",
       "</style>\n",
       "<table border=\"1\" class=\"dataframe\">\n",
       "  <thead>\n",
       "    <tr style=\"text-align: right;\">\n",
       "      <th></th>\n",
       "      <th>Muertes Covid</th>\n",
       "      <th>Falta de Personal</th>\n",
       "    </tr>\n",
       "    <tr>\n",
       "      <th>state</th>\n",
       "      <th></th>\n",
       "      <th></th>\n",
       "    </tr>\n",
       "  </thead>\n",
       "  <tbody>\n",
       "    <tr>\n",
       "      <th>AK</th>\n",
       "      <td>614.0</td>\n",
       "      <td>843</td>\n",
       "    </tr>\n",
       "    <tr>\n",
       "      <th>AL</th>\n",
       "      <td>6390.0</td>\n",
       "      <td>11085</td>\n",
       "    </tr>\n",
       "    <tr>\n",
       "      <th>AR</th>\n",
       "      <td>3582.0</td>\n",
       "      <td>6148</td>\n",
       "    </tr>\n",
       "    <tr>\n",
       "      <th>AS</th>\n",
       "      <td>0.0</td>\n",
       "      <td>0</td>\n",
       "    </tr>\n",
       "    <tr>\n",
       "      <th>AZ</th>\n",
       "      <td>16250.0</td>\n",
       "      <td>10783</td>\n",
       "    </tr>\n",
       "  </tbody>\n",
       "</table>\n",
       "</div>"
      ],
      "text/plain": [
       "       Muertes Covid  Falta de Personal\n",
       "state                                  \n",
       "AK             614.0                843\n",
       "AL            6390.0              11085\n",
       "AR            3582.0               6148\n",
       "AS               0.0                  0\n",
       "AZ           16250.0              10783"
      ]
     },
     "execution_count": 15,
     "metadata": {},
     "output_type": "execute_result"
    }
   ],
   "source": [
    "df7.head(5)"
   ]
  },
  {
   "cell_type": "markdown",
   "metadata": {},
   "source": [
    "PUNTO 8"
   ]
  },
  {
   "cell_type": "markdown",
   "metadata": {},
   "source": [
    "Siguiendo las respuestas anteriores, ¿cuál fue el peor mes de la pandemia para USA en su conjunto? Puede utilizar otras medidas que considere necesarias."
   ]
  },
  {
   "cell_type": "markdown",
   "metadata": {},
   "source": [
    "Un mapa que muestre la cantidad de hospitalizados debido al COVID-19 por Estado."
   ]
  },
  {
   "cell_type": "code",
   "execution_count": 17,
   "metadata": {},
   "outputs": [],
   "source": [
    "geo_url= requests.get('https://healthdata.gov/resource/g62h-syeh.json?$where=within_circle(geocoded_state, 47.59, -122.33, 1000)')"
   ]
  },
  {
   "cell_type": "code",
   "execution_count": 18,
   "metadata": {},
   "outputs": [
    {
     "data": {
      "text/html": [
       "\n",
       "<div id=\"altair-viz-a4c759683500485ca2afa9bdbb3ca37e\"></div>\n",
       "<script type=\"text/javascript\">\n",
       "  var VEGA_DEBUG = (typeof VEGA_DEBUG == \"undefined\") ? {} : VEGA_DEBUG;\n",
       "  (function(spec, embedOpt){\n",
       "    let outputDiv = document.currentScript.previousElementSibling;\n",
       "    if (outputDiv.id !== \"altair-viz-a4c759683500485ca2afa9bdbb3ca37e\") {\n",
       "      outputDiv = document.getElementById(\"altair-viz-a4c759683500485ca2afa9bdbb3ca37e\");\n",
       "    }\n",
       "    const paths = {\n",
       "      \"vega\": \"https://cdn.jsdelivr.net/npm//vega@5?noext\",\n",
       "      \"vega-lib\": \"https://cdn.jsdelivr.net/npm//vega-lib?noext\",\n",
       "      \"vega-lite\": \"https://cdn.jsdelivr.net/npm//vega-lite@4.17.0?noext\",\n",
       "      \"vega-embed\": \"https://cdn.jsdelivr.net/npm//vega-embed@6?noext\",\n",
       "    };\n",
       "\n",
       "    function maybeLoadScript(lib, version) {\n",
       "      var key = `${lib.replace(\"-\", \"\")}_version`;\n",
       "      return (VEGA_DEBUG[key] == version) ?\n",
       "        Promise.resolve(paths[lib]) :\n",
       "        new Promise(function(resolve, reject) {\n",
       "          var s = document.createElement('script');\n",
       "          document.getElementsByTagName(\"head\")[0].appendChild(s);\n",
       "          s.async = true;\n",
       "          s.onload = () => {\n",
       "            VEGA_DEBUG[key] = version;\n",
       "            return resolve(paths[lib]);\n",
       "          };\n",
       "          s.onerror = () => reject(`Error loading script: ${paths[lib]}`);\n",
       "          s.src = paths[lib];\n",
       "        });\n",
       "    }\n",
       "\n",
       "    function showError(err) {\n",
       "      outputDiv.innerHTML = `<div class=\"error\" style=\"color:red;\">${err}</div>`;\n",
       "      throw err;\n",
       "    }\n",
       "\n",
       "    function displayChart(vegaEmbed) {\n",
       "      vegaEmbed(outputDiv, spec, embedOpt)\n",
       "        .catch(err => showError(`Javascript Error: ${err.message}<br>This usually means there's a typo in your chart specification. See the javascript console for the full traceback.`));\n",
       "    }\n",
       "\n",
       "    if(typeof define === \"function\" && define.amd) {\n",
       "      requirejs.config({paths});\n",
       "      require([\"vega-embed\"], displayChart, err => showError(`Error loading script: ${err.message}`));\n",
       "    } else {\n",
       "      maybeLoadScript(\"vega\", \"5\")\n",
       "        .then(() => maybeLoadScript(\"vega-lite\", \"4.17.0\"))\n",
       "        .then(() => maybeLoadScript(\"vega-embed\", \"6\"))\n",
       "        .catch(showError)\n",
       "        .then(() => displayChart(vegaEmbed));\n",
       "    }\n",
       "  })({\"config\": {\"view\": {\"continuousWidth\": 400, \"continuousHeight\": 300}}, \"data\": {\"name\": \"data-7356e388c01100690b963f612b6f49dc\"}, \"mark\": \"geoshape\", \"encoding\": {\"color\": {\"field\": \"rate\", \"type\": \"quantitative\"}}, \"height\": 300, \"projection\": {\"type\": \"albersUsa\"}, \"transform\": [{\"lookup\": \"state\", \"from\": {\"data\": {\"name\": \"data-7356e388c01100690b963f612b6f49dc\"}, \"key\": \"Total Adult\", \"fields\": [\"rate\"]}}], \"width\": 500, \"$schema\": \"https://vega.github.io/schema/vega-lite/v4.17.0.json\", \"datasets\": {\"data-7356e388c01100690b963f612b6f49dc\": [{\"state\": \"PR\", \"Total Adult\": 168012.0}, {\"state\": \"OR\", \"Total Adult\": 289667.0}, {\"state\": \"VI\", \"Total Adult\": 4937.0}, {\"state\": \"WY\", \"Total Adult\": 56646.0}, {\"state\": \"VT\", \"Total Adult\": 23911.0}, {\"state\": \"AL\", \"Total Adult\": 769410.0}, {\"state\": \"RI\", \"Total Adult\": 106520.0}, {\"state\": \"AK\", \"Total Adult\": 53980.0}, {\"state\": \"DE\", \"Total Adult\": 129415.0}, {\"state\": \"ND\", \"Total Adult\": 96664.0}, {\"state\": \"NH\", \"Total Adult\": 92312.0}, {\"state\": \"SD\", \"Total Adult\": 105420.0}, {\"state\": \"NE\", \"Total Adult\": 218058.0}, {\"state\": \"IA\", \"Total Adult\": 291155.0}, {\"state\": \"CA\", \"Total Adult\": 3988854.0}, {\"state\": \"OH\", \"Total Adult\": 1453047.0}, {\"state\": \"MS\", \"Total Adult\": 403855.0}, {\"state\": \"MA\", \"Total Adult\": 475121.0}, {\"state\": \"MD\", \"Total Adult\": 586850.0}, {\"state\": \"MI\", \"Total Adult\": 1191607.0}, {\"state\": \"MO\", \"Total Adult\": 880156.0}, {\"state\": \"VA\", \"Total Adult\": 774726.0}, {\"state\": \"NJ\", \"Total Adult\": 1005834.0}, {\"state\": \"KS\", \"Total Adult\": 311140.0}, {\"state\": \"MN\", \"Total Adult\": 469398.0}, {\"state\": \"NC\", \"Total Adult\": 1141021.0}, {\"state\": \"AS\", \"Total Adult\": 720.0}, {\"state\": \"DC\", \"Total Adult\": 107881.0}, {\"state\": \"MT\", \"Total Adult\": 122522.0}, {\"state\": \"HI\", \"Total Adult\": 89548.0}, {\"state\": \"NM\", \"Total Adult\": 232456.0}, {\"state\": \"ID\", \"Total Adult\": 182056.0}, {\"state\": \"CO\", \"Total Adult\": 462562.0}, {\"state\": \"NV\", \"Total Adult\": 553355.0}, {\"state\": \"CT\", \"Total Adult\": 318236.0}, {\"state\": \"ME\", \"Total Adult\": 107916.0}, {\"state\": \"AR\", \"Total Adult\": 405690.0}, {\"state\": \"WV\", \"Total Adult\": 306356.0}, {\"state\": \"SC\", \"Total Adult\": 614633.0}, {\"state\": \"UT\", \"Total Adult\": 226138.0}, {\"state\": \"WA\", \"Total Adult\": 522425.0}, {\"state\": \"LA\", \"Total Adult\": 723594.0}, {\"state\": \"OK\", \"Total Adult\": 532525.0}, {\"state\": \"AZ\", \"Total Adult\": 980847.0}, {\"state\": \"TX\", \"Total Adult\": 4072092.0}, {\"state\": \"IL\", \"Total Adult\": 1316507.0}, {\"state\": \"IN\", \"Total Adult\": 829979.0}, {\"state\": \"TN\", \"Total Adult\": 968718.0}, {\"state\": \"PA\", \"Total Adult\": 1617470.0}, {\"state\": \"WI\", \"Total Adult\": 584420.0}, {\"state\": \"GA\", \"Total Adult\": 1475396.0}, {\"state\": \"FL\", \"Total Adult\": 3320690.0}, {\"state\": \"NY\", \"Total Adult\": 2276327.0}, {\"state\": \"KY\", \"Total Adult\": 631746.0}]}}, {\"mode\": \"vega-lite\"});\n",
       "</script>"
      ],
      "text/plain": [
       "alt.Chart(...)"
      ]
     },
     "execution_count": 18,
     "metadata": {},
     "output_type": "execute_result"
    }
   ],
   "source": [
    "#counties = alt.topo_feature(data.us_10m.url, 'counties')\n",
    "#source = data.unemployment.url\n",
    "\n",
    "alt.Chart(dfmap).mark_geoshape().encode(color='rate:Q').transform_lookup(lookup='state',from_=alt.LookupData(dfmap, 'Total Adult', ['rate'])\n",
    ").project( type='albersUsa').properties(width=500,height=300)"
   ]
  },
  {
   "cell_type": "markdown",
   "metadata": {},
   "source": [
    "Contruire una gráfica con todos los estados y el total de adultos hospitalizados"
   ]
  },
  {
   "cell_type": "code",
   "execution_count": 16,
   "metadata": {},
   "outputs": [
    {
     "data": {
      "text/html": [
       "\n",
       "<div id=\"altair-viz-c3b47351c508468b93ad784fc29e69f1\"></div>\n",
       "<script type=\"text/javascript\">\n",
       "  var VEGA_DEBUG = (typeof VEGA_DEBUG == \"undefined\") ? {} : VEGA_DEBUG;\n",
       "  (function(spec, embedOpt){\n",
       "    let outputDiv = document.currentScript.previousElementSibling;\n",
       "    if (outputDiv.id !== \"altair-viz-c3b47351c508468b93ad784fc29e69f1\") {\n",
       "      outputDiv = document.getElementById(\"altair-viz-c3b47351c508468b93ad784fc29e69f1\");\n",
       "    }\n",
       "    const paths = {\n",
       "      \"vega\": \"https://cdn.jsdelivr.net/npm//vega@5?noext\",\n",
       "      \"vega-lib\": \"https://cdn.jsdelivr.net/npm//vega-lib?noext\",\n",
       "      \"vega-lite\": \"https://cdn.jsdelivr.net/npm//vega-lite@4.17.0?noext\",\n",
       "      \"vega-embed\": \"https://cdn.jsdelivr.net/npm//vega-embed@6?noext\",\n",
       "    };\n",
       "\n",
       "    function maybeLoadScript(lib, version) {\n",
       "      var key = `${lib.replace(\"-\", \"\")}_version`;\n",
       "      return (VEGA_DEBUG[key] == version) ?\n",
       "        Promise.resolve(paths[lib]) :\n",
       "        new Promise(function(resolve, reject) {\n",
       "          var s = document.createElement('script');\n",
       "          document.getElementsByTagName(\"head\")[0].appendChild(s);\n",
       "          s.async = true;\n",
       "          s.onload = () => {\n",
       "            VEGA_DEBUG[key] = version;\n",
       "            return resolve(paths[lib]);\n",
       "          };\n",
       "          s.onerror = () => reject(`Error loading script: ${paths[lib]}`);\n",
       "          s.src = paths[lib];\n",
       "        });\n",
       "    }\n",
       "\n",
       "    function showError(err) {\n",
       "      outputDiv.innerHTML = `<div class=\"error\" style=\"color:red;\">${err}</div>`;\n",
       "      throw err;\n",
       "    }\n",
       "\n",
       "    function displayChart(vegaEmbed) {\n",
       "      vegaEmbed(outputDiv, spec, embedOpt)\n",
       "        .catch(err => showError(`Javascript Error: ${err.message}<br>This usually means there's a typo in your chart specification. See the javascript console for the full traceback.`));\n",
       "    }\n",
       "\n",
       "    if(typeof define === \"function\" && define.amd) {\n",
       "      requirejs.config({paths});\n",
       "      require([\"vega-embed\"], displayChart, err => showError(`Error loading script: ${err.message}`));\n",
       "    } else {\n",
       "      maybeLoadScript(\"vega\", \"5\")\n",
       "        .then(() => maybeLoadScript(\"vega-lite\", \"4.17.0\"))\n",
       "        .then(() => maybeLoadScript(\"vega-embed\", \"6\"))\n",
       "        .catch(showError)\n",
       "        .then(() => displayChart(vegaEmbed));\n",
       "    }\n",
       "  })({\"config\": {\"view\": {\"continuousWidth\": 400, \"continuousHeight\": 300}}, \"data\": {\"name\": \"data-7356e388c01100690b963f612b6f49dc\"}, \"mark\": \"point\", \"encoding\": {\"x\": {\"field\": \"state\", \"type\": \"nominal\"}, \"y\": {\"field\": \"Total Adult\", \"type\": \"quantitative\"}}, \"$schema\": \"https://vega.github.io/schema/vega-lite/v4.17.0.json\", \"datasets\": {\"data-7356e388c01100690b963f612b6f49dc\": [{\"state\": \"PR\", \"Total Adult\": 168012.0}, {\"state\": \"OR\", \"Total Adult\": 289667.0}, {\"state\": \"VI\", \"Total Adult\": 4937.0}, {\"state\": \"WY\", \"Total Adult\": 56646.0}, {\"state\": \"VT\", \"Total Adult\": 23911.0}, {\"state\": \"AL\", \"Total Adult\": 769410.0}, {\"state\": \"RI\", \"Total Adult\": 106520.0}, {\"state\": \"AK\", \"Total Adult\": 53980.0}, {\"state\": \"DE\", \"Total Adult\": 129415.0}, {\"state\": \"ND\", \"Total Adult\": 96664.0}, {\"state\": \"NH\", \"Total Adult\": 92312.0}, {\"state\": \"SD\", \"Total Adult\": 105420.0}, {\"state\": \"NE\", \"Total Adult\": 218058.0}, {\"state\": \"IA\", \"Total Adult\": 291155.0}, {\"state\": \"CA\", \"Total Adult\": 3988854.0}, {\"state\": \"OH\", \"Total Adult\": 1453047.0}, {\"state\": \"MS\", \"Total Adult\": 403855.0}, {\"state\": \"MA\", \"Total Adult\": 475121.0}, {\"state\": \"MD\", \"Total Adult\": 586850.0}, {\"state\": \"MI\", \"Total Adult\": 1191607.0}, {\"state\": \"MO\", \"Total Adult\": 880156.0}, {\"state\": \"VA\", \"Total Adult\": 774726.0}, {\"state\": \"NJ\", \"Total Adult\": 1005834.0}, {\"state\": \"KS\", \"Total Adult\": 311140.0}, {\"state\": \"MN\", \"Total Adult\": 469398.0}, {\"state\": \"NC\", \"Total Adult\": 1141021.0}, {\"state\": \"AS\", \"Total Adult\": 720.0}, {\"state\": \"DC\", \"Total Adult\": 107881.0}, {\"state\": \"MT\", \"Total Adult\": 122522.0}, {\"state\": \"HI\", \"Total Adult\": 89548.0}, {\"state\": \"NM\", \"Total Adult\": 232456.0}, {\"state\": \"ID\", \"Total Adult\": 182056.0}, {\"state\": \"CO\", \"Total Adult\": 462562.0}, {\"state\": \"NV\", \"Total Adult\": 553355.0}, {\"state\": \"CT\", \"Total Adult\": 318236.0}, {\"state\": \"ME\", \"Total Adult\": 107916.0}, {\"state\": \"AR\", \"Total Adult\": 405690.0}, {\"state\": \"WV\", \"Total Adult\": 306356.0}, {\"state\": \"SC\", \"Total Adult\": 614633.0}, {\"state\": \"UT\", \"Total Adult\": 226138.0}, {\"state\": \"WA\", \"Total Adult\": 522425.0}, {\"state\": \"LA\", \"Total Adult\": 723594.0}, {\"state\": \"OK\", \"Total Adult\": 532525.0}, {\"state\": \"AZ\", \"Total Adult\": 980847.0}, {\"state\": \"TX\", \"Total Adult\": 4072092.0}, {\"state\": \"IL\", \"Total Adult\": 1316507.0}, {\"state\": \"IN\", \"Total Adult\": 829979.0}, {\"state\": \"TN\", \"Total Adult\": 968718.0}, {\"state\": \"PA\", \"Total Adult\": 1617470.0}, {\"state\": \"WI\", \"Total Adult\": 584420.0}, {\"state\": \"GA\", \"Total Adult\": 1475396.0}, {\"state\": \"FL\", \"Total Adult\": 3320690.0}, {\"state\": \"NY\", \"Total Adult\": 2276327.0}, {\"state\": \"KY\", \"Total Adult\": 631746.0}]}}, {\"mode\": \"vega-lite\"});\n",
       "</script>"
      ],
      "text/plain": [
       "alt.Chart(...)"
      ]
     },
     "execution_count": 16,
     "metadata": {},
     "output_type": "execute_result"
    }
   ],
   "source": [
    "dfmap = df[['state','total_adult_patients_hospitalized_confirmed_covid']].copy()\n",
    "dfmap.rename(columns={'total_adult_patients_hospitalized_confirmed_covid':'Total Adult'}, inplace=True)\n",
    "dfmap = dfmap.fillna(0, axis=1)\n",
    "dfmap = dfmap.groupby('state', as_index=False, sort=False).sum()\n",
    "alt.Chart(dfmap).mark_point().encode(x='state', y='Total Adult')"
   ]
  },
  {
   "cell_type": "markdown",
   "metadata": {},
   "source": [
    "DataFrame que involucra a los hospitalizados adultos, camas UCI, hospitalizados pediátricos y el número de muertes para realizar un mejor storytelling"
   ]
  },
  {
   "cell_type": "markdown",
   "metadata": {},
   "source": [
    "<p>Juntar: </p>\n",
    "    <p>-   Hospitalizados = Camas ocupadas </p>\n",
    "    <p>-   Camas UCI </p>\n",
    "    <p>-   Pediátricas </p>\n",
    "    <p>-   Muerte </p>"
   ]
  },
  {
   "cell_type": "code",
   "execution_count": 31,
   "metadata": {},
   "outputs": [
    {
     "data": {
      "text/html": [
       "<div>\n",
       "<style scoped>\n",
       "    .dataframe tbody tr th:only-of-type {\n",
       "        vertical-align: middle;\n",
       "    }\n",
       "\n",
       "    .dataframe tbody tr th {\n",
       "        vertical-align: top;\n",
       "    }\n",
       "\n",
       "    .dataframe thead th {\n",
       "        text-align: right;\n",
       "    }\n",
       "</style>\n",
       "<table border=\"1\" class=\"dataframe\">\n",
       "  <thead>\n",
       "    <tr style=\"text-align: right;\">\n",
       "      <th></th>\n",
       "      <th>date</th>\n",
       "      <th>state</th>\n",
       "      <th>Total Adulto</th>\n",
       "      <th>Total Pediatrica</th>\n",
       "      <th>Total Camas UCI</th>\n",
       "      <th>Muertes Covid</th>\n",
       "      <th>Totales</th>\n",
       "    </tr>\n",
       "  </thead>\n",
       "  <tbody>\n",
       "    <tr>\n",
       "      <th>0</th>\n",
       "      <td>2020-12-23</td>\n",
       "      <td>PR</td>\n",
       "      <td>488.0</td>\n",
       "      <td>2.0</td>\n",
       "      <td>82.0</td>\n",
       "      <td>59.0</td>\n",
       "      <td>631.0</td>\n",
       "    </tr>\n",
       "    <tr>\n",
       "      <th>1</th>\n",
       "      <td>2020-12-22</td>\n",
       "      <td>OR</td>\n",
       "      <td>497.0</td>\n",
       "      <td>4.0</td>\n",
       "      <td>95.0</td>\n",
       "      <td>10.0</td>\n",
       "      <td>606.0</td>\n",
       "    </tr>\n",
       "    <tr>\n",
       "      <th>2</th>\n",
       "      <td>2020-10-16</td>\n",
       "      <td>VI</td>\n",
       "      <td>4.0</td>\n",
       "      <td>0.0</td>\n",
       "      <td>1.0</td>\n",
       "      <td>0.0</td>\n",
       "      <td>5.0</td>\n",
       "    </tr>\n",
       "    <tr>\n",
       "      <th>3</th>\n",
       "      <td>2020-10-15</td>\n",
       "      <td>VI</td>\n",
       "      <td>4.0</td>\n",
       "      <td>0.0</td>\n",
       "      <td>1.0</td>\n",
       "      <td>0.0</td>\n",
       "      <td>5.0</td>\n",
       "    </tr>\n",
       "    <tr>\n",
       "      <th>4</th>\n",
       "      <td>2020-10-14</td>\n",
       "      <td>PR</td>\n",
       "      <td>202.0</td>\n",
       "      <td>10.0</td>\n",
       "      <td>45.0</td>\n",
       "      <td>6.0</td>\n",
       "      <td>263.0</td>\n",
       "    </tr>\n",
       "    <tr>\n",
       "      <th>...</th>\n",
       "      <td>...</td>\n",
       "      <td>...</td>\n",
       "      <td>...</td>\n",
       "      <td>...</td>\n",
       "      <td>...</td>\n",
       "      <td>...</td>\n",
       "      <td>...</td>\n",
       "    </tr>\n",
       "    <tr>\n",
       "      <th>42313</th>\n",
       "      <td>2022-02-09</td>\n",
       "      <td>VA</td>\n",
       "      <td>1952.0</td>\n",
       "      <td>26.0</td>\n",
       "      <td>407.0</td>\n",
       "      <td>31.0</td>\n",
       "      <td>2416.0</td>\n",
       "    </tr>\n",
       "    <tr>\n",
       "      <th>42315</th>\n",
       "      <td>2022-02-05</td>\n",
       "      <td>CA</td>\n",
       "      <td>10759.0</td>\n",
       "      <td>362.0</td>\n",
       "      <td>2067.0</td>\n",
       "      <td>57.0</td>\n",
       "      <td>13245.0</td>\n",
       "    </tr>\n",
       "    <tr>\n",
       "      <th>42316</th>\n",
       "      <td>2022-02-20</td>\n",
       "      <td>NM</td>\n",
       "      <td>378.0</td>\n",
       "      <td>6.0</td>\n",
       "      <td>101.0</td>\n",
       "      <td>2.0</td>\n",
       "      <td>487.0</td>\n",
       "    </tr>\n",
       "    <tr>\n",
       "      <th>42317</th>\n",
       "      <td>2022-02-03</td>\n",
       "      <td>ND</td>\n",
       "      <td>307.0</td>\n",
       "      <td>7.0</td>\n",
       "      <td>51.0</td>\n",
       "      <td>2.0</td>\n",
       "      <td>367.0</td>\n",
       "    </tr>\n",
       "    <tr>\n",
       "      <th>42318</th>\n",
       "      <td>2022-02-04</td>\n",
       "      <td>RI</td>\n",
       "      <td>222.0</td>\n",
       "      <td>3.0</td>\n",
       "      <td>30.0</td>\n",
       "      <td>0.0</td>\n",
       "      <td>255.0</td>\n",
       "    </tr>\n",
       "  </tbody>\n",
       "</table>\n",
       "<p>40009 rows × 7 columns</p>\n",
       "</div>"
      ],
      "text/plain": [
       "            date state Total Adulto Total Pediatrica Total Camas UCI  \\\n",
       "0     2020-12-23    PR        488.0              2.0            82.0   \n",
       "1     2020-12-22    OR        497.0              4.0            95.0   \n",
       "2     2020-10-16    VI          4.0              0.0             1.0   \n",
       "3     2020-10-15    VI          4.0              0.0             1.0   \n",
       "4     2020-10-14    PR        202.0             10.0            45.0   \n",
       "...          ...   ...          ...              ...             ...   \n",
       "42313 2022-02-09    VA       1952.0             26.0           407.0   \n",
       "42315 2022-02-05    CA      10759.0            362.0          2067.0   \n",
       "42316 2022-02-20    NM        378.0              6.0           101.0   \n",
       "42317 2022-02-03    ND        307.0              7.0            51.0   \n",
       "42318 2022-02-04    RI        222.0              3.0            30.0   \n",
       "\n",
       "      Muertes Covid  Totales  \n",
       "0              59.0    631.0  \n",
       "1              10.0    606.0  \n",
       "2               0.0      5.0  \n",
       "3               0.0      5.0  \n",
       "4               6.0    263.0  \n",
       "...             ...      ...  \n",
       "42313          31.0   2416.0  \n",
       "42315          57.0  13245.0  \n",
       "42316           2.0    487.0  \n",
       "42317           2.0    367.0  \n",
       "42318           0.0    255.0  \n",
       "\n",
       "[40009 rows x 7 columns]"
      ]
     },
     "execution_count": 31,
     "metadata": {},
     "output_type": "execute_result"
    }
   ],
   "source": [
    "todo=df[['date','state','total_adult_patients_hospitalized_confirmed_covid','total_pediatric_patients_hospitalized_confirmed_covid','staffed_icu_adult_patients_confirmed_covid','deaths_covid']].copy()\n",
    "masktodo=((df['date'] >= '2020/6/1') & (df['date'] <= '2022/8/1'))\n",
    "todo=todo.loc[masktodo]\n",
    "todo.reset_index(inplace=True, drop=True)\n",
    "todo.rename(columns={'total_adult_patients_hospitalized_confirmed_covid':'Total Adulto','total_pediatric_patients_hospitalized_confirmed_covid':'Total Pediatrica','staffed_icu_adult_patients_confirmed_covid':'Total Camas UCI','deaths_covid':'Muertes Covid' }, inplace=True)\n",
    "todo = todo.fillna(0, axis=1)\n",
    "#todo = todo.groupby('state', as_index=False, sort=False).sum()\n",
    "todo['Totales']=todo['Total Adulto']+todo['Total Pediatrica']+todo['Total Camas UCI']+todo['Muertes Covid']\n",
    "todo.drop(todo[todo['Total Adulto']==0].index, inplace=True)\n",
    "todo\n"
   ]
  },
  {
   "cell_type": "code",
   "execution_count": 20,
   "metadata": {},
   "outputs": [
    {
     "data": {
      "text/plain": [
       "DataTransformerRegistry.enable('default')"
      ]
     },
     "execution_count": 20,
     "metadata": {},
     "output_type": "execute_result"
    }
   ],
   "source": [
    "alt.data_transformers.disable_max_rows()"
   ]
  },
  {
   "cell_type": "markdown",
   "metadata": {},
   "source": [
    "Gráfica concatenada solo interactiva"
   ]
  },
  {
   "cell_type": "code",
   "execution_count": null,
   "metadata": {},
   "outputs": [],
   "source": [
    "puntos=alt.Chart(todo).mark_point().encode(x='date', y='Total Adulto', color='state').interactive()\n",
    "barras=alt.Chart(todo).mark_bar().encode(x='average(Total Adulto)', y='state', color='state').interactive()\n",
    "alt.vconcat(puntos,barras)"
   ]
  },
  {
   "cell_type": "markdown",
   "metadata": {},
   "source": [
    "Gráfica concatenada con filtro"
   ]
  },
  {
   "cell_type": "code",
   "execution_count": null,
   "metadata": {},
   "outputs": [],
   "source": [
    "filtro=alt.selection_interval()\n",
    "puntos=alt.Chart(todo).mark_point().encode(x='date', y='Total Adulto', color=alt.condition(filtro,'state', alt.value('lightgray'))).properties(selection=filtro).interactive()\n",
    "barras=alt.Chart(todo).mark_bar().encode(x='average(Total Adulto)', y='state', color='state').transform_filter(filtro)\n",
    "alt.vconcat(puntos,barras)"
   ]
  },
  {
   "cell_type": "markdown",
   "metadata": {},
   "source": [
    "<p> PUNTO 8 </p>\n",
    "Peor mes del 2020 hospitalizados adultos y pediátricos"
   ]
  },
  {
   "cell_type": "code",
   "execution_count": 32,
   "metadata": {},
   "outputs": [
    {
     "name": "stderr",
     "output_type": "stream",
     "text": [
      "/var/folders/qr/4qhf7vjs1mq388jh6rxzt06c0000gn/T/ipykernel_723/2326529618.py:9: FutureWarning: Dropping invalid columns in DataFrameGroupBy.add is deprecated. In a future version, a TypeError will be raised. Before calling .add, select only columns which should be valid for the function.\n",
      "  df3_6meses_pormes=df3_6meses_pormes.groupby(pd.PeriodIndex(df3_6meses_pormes.date, freq='M')).sum()\n"
     ]
    },
    {
     "data": {
      "text/html": [
       "<div>\n",
       "<style scoped>\n",
       "    .dataframe tbody tr th:only-of-type {\n",
       "        vertical-align: middle;\n",
       "    }\n",
       "\n",
       "    .dataframe tbody tr th {\n",
       "        vertical-align: top;\n",
       "    }\n",
       "\n",
       "    .dataframe thead th {\n",
       "        text-align: right;\n",
       "    }\n",
       "</style>\n",
       "<table border=\"1\" class=\"dataframe\">\n",
       "  <thead>\n",
       "    <tr style=\"text-align: right;\">\n",
       "      <th></th>\n",
       "      <th>total</th>\n",
       "    </tr>\n",
       "    <tr>\n",
       "      <th>date</th>\n",
       "      <th></th>\n",
       "    </tr>\n",
       "  </thead>\n",
       "  <tbody>\n",
       "    <tr>\n",
       "      <th>2020-01</th>\n",
       "      <td>9005.0</td>\n",
       "    </tr>\n",
       "    <tr>\n",
       "      <th>2020-02</th>\n",
       "      <td>0.0</td>\n",
       "    </tr>\n",
       "    <tr>\n",
       "      <th>2020-03</th>\n",
       "      <td>806.0</td>\n",
       "    </tr>\n",
       "    <tr>\n",
       "      <th>2020-04</th>\n",
       "      <td>56216.0</td>\n",
       "    </tr>\n",
       "    <tr>\n",
       "      <th>2020-05</th>\n",
       "      <td>24939.0</td>\n",
       "    </tr>\n",
       "    <tr>\n",
       "      <th>2020-06</th>\n",
       "      <td>18123.0</td>\n",
       "    </tr>\n",
       "    <tr>\n",
       "      <th>2020-07</th>\n",
       "      <td>767327.0</td>\n",
       "    </tr>\n",
       "    <tr>\n",
       "      <th>2020-08</th>\n",
       "      <td>1210668.0</td>\n",
       "    </tr>\n",
       "    <tr>\n",
       "      <th>2020-09</th>\n",
       "      <td>822998.0</td>\n",
       "    </tr>\n",
       "    <tr>\n",
       "      <th>2020-10</th>\n",
       "      <td>1093262.0</td>\n",
       "    </tr>\n",
       "    <tr>\n",
       "      <th>2020-11</th>\n",
       "      <td>2113698.0</td>\n",
       "    </tr>\n",
       "    <tr>\n",
       "      <th>2020-12</th>\n",
       "      <td>3404151.0</td>\n",
       "    </tr>\n",
       "  </tbody>\n",
       "</table>\n",
       "</div>"
      ],
      "text/plain": [
       "             total\n",
       "date              \n",
       "2020-01     9005.0\n",
       "2020-02        0.0\n",
       "2020-03      806.0\n",
       "2020-04    56216.0\n",
       "2020-05    24939.0\n",
       "2020-06    18123.0\n",
       "2020-07   767327.0\n",
       "2020-08  1210668.0\n",
       "2020-09   822998.0\n",
       "2020-10  1093262.0\n",
       "2020-11  2113698.0\n",
       "2020-12  3404151.0"
      ]
     },
     "execution_count": 32,
     "metadata": {},
     "output_type": "execute_result"
    }
   ],
   "source": [
    "mask = (df['date'] > '2020/1/1') & (df['date'] <= '2020/12/31')\n",
    "df1=df.loc[mask]\n",
    "df3_6meses=df1[['date','state','total_adult_patients_hospitalized_confirmed_covid','total_pediatric_patients_hospitalized_confirmed_covid']].copy()\n",
    "df3_6meses.reset_index(inplace=True, drop=True)\n",
    "df3_6meses.rename(columns={'total_adult_patients_hospitalized_confirmed_covid':'total_adult','total_pediatric_patients_hospitalized_confirmed_covid':'total_pediatric'}, inplace=True)\n",
    "df3_6meses= df3_6meses.fillna(0, axis=1)\n",
    "df3_6meses['total']=df3_6meses.total_adult+df3_6meses.total_pediatric\n",
    "df3_6meses_pormes=df3_6meses.drop(['state','total_adult','total_pediatric'], axis=1)\n",
    "df3_6meses_pormes=df3_6meses_pormes.groupby(pd.PeriodIndex(df3_6meses_pormes.date, freq='M')).sum()\n",
    "df3_6meses_pormes"
   ]
  },
  {
   "cell_type": "markdown",
   "metadata": {},
   "source": [
    "El peor mes fue en diciembre ya que fue el máximo de hospitalizados confirmados con Covid-19, sin embargo, si solo tomamos los primeros seis meses que menconar el punto 1 entonces abril sería el peor mes del 2020"
   ]
  },
  {
   "cell_type": "code",
   "execution_count": null,
   "metadata": {},
   "outputs": [],
   "source": []
  }
 ],
 "metadata": {
  "kernelspec": {
   "display_name": "Python 3.8.9 64-bit",
   "language": "python",
   "name": "python3"
  },
  "language_info": {
   "codemirror_mode": {
    "name": "ipython",
    "version": 3
   },
   "file_extension": ".py",
   "mimetype": "text/x-python",
   "name": "python",
   "nbconvert_exporter": "python",
   "pygments_lexer": "ipython3",
   "version": "3.8.9"
  },
  "orig_nbformat": 4,
  "vscode": {
   "interpreter": {
    "hash": "31f2aee4e71d21fbe5cf8b01ff0e069b9275f58929596ceb00d14d90e3e16cd6"
   }
  }
 },
 "nbformat": 4,
 "nbformat_minor": 2
}
